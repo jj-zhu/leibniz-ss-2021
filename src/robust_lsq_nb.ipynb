{
 "cells": [
  {
   "cell_type": "markdown",
   "metadata": {},
   "source": [
    "This notebook demonstrates how to apply KDRO to the uncertain least squares problem. We will use the software package that is publically available here: https://github.com/jj-zhu/kdro (it's already provided below)."
   ]
  },
  {
   "cell_type": "code",
   "execution_count": 1,
   "metadata": {},
   "outputs": [],
   "source": [
    "%load_ext autoreload\n",
    "%autoreload 2"
   ]
  },
  {
   "cell_type": "code",
   "execution_count": 2,
   "metadata": {},
   "outputs": [],
   "source": [
    "import pickle\n",
    "import numpy as np\n",
    "import matplotlib.pyplot as plt\n",
    "from util_rls import *"
   ]
  },
  {
   "cell_type": "markdown",
   "metadata": {},
   "source": [
    "## Prepare parameters for the problem"
   ]
  },
  {
   "cell_type": "code",
   "execution_count": 3,
   "metadata": {},
   "outputs": [],
   "source": [
    "dim_x = 10 # dim of decision var\n",
    "dim_w = 1 # dim for the uncertain var \\xi\n",
    "n_sample = 10 # how many empirical samples \\hat{xi} to use\n",
    "n_certify = 50 # how many zeta to sample. cf. paper\n",
    "n_run = 10 # independent runs"
   ]
  },
  {
   "cell_type": "code",
   "execution_count": 4,
   "metadata": {},
   "outputs": [],
   "source": [
    "epsilon = 0.5 # epsilon in the kdro problem"
   ]
  },
  {
   "cell_type": "markdown",
   "metadata": {},
   "source": [
    "## Solve uncertain lsq. using KDRO"
   ]
  },
  {
   "cell_type": "code",
   "execution_count": 5,
   "metadata": {},
   "outputs": [
    {
     "name": "stderr",
     "output_type": "stream",
     "text": [
      "/Users/zplusj/anaconda3/envs/syscop/lib/python3.7/site-packages/cvxpy/problems/problem.py:1279: UserWarning: Solution may be inaccurate. Try another solver, adjusting the solver settings, or solve with verbose=True for more information.\n",
      "  \"Solution may be inaccurate. Try another solver, \"\n",
      "/Users/zplusj/anaconda3/envs/syscop/lib/python3.7/site-packages/cvxpy/problems/problem.py:1279: UserWarning: Solution may be inaccurate. Try another solver, adjusting the solver settings, or solve with verbose=True for more information.\n",
      "  \"Solution may be inaccurate. Try another solver, \"\n",
      "/Users/zplusj/anaconda3/envs/syscop/lib/python3.7/site-packages/cvxpy/problems/problem.py:1279: UserWarning: Solution may be inaccurate. Try another solver, adjusting the solver settings, or solve with verbose=True for more information.\n",
      "  \"Solution may be inaccurate. Try another solver, \"\n",
      "/Users/zplusj/anaconda3/envs/syscop/lib/python3.7/site-packages/cvxpy/problems/problem.py:1279: UserWarning: Solution may be inaccurate. Try another solver, adjusting the solver settings, or solve with verbose=True for more information.\n",
      "  \"Solution may be inaccurate. Try another solver, \"\n"
     ]
    }
   ],
   "source": [
    "res_dro=[]\n",
    "datafile = pickle.load(open('data/robls.bin', 'rb'))['6.15']  # data set from boyd vandenberghe text    \n",
    "for j in range(n_run):\n",
    "    # load data for the optimization problem\n",
    "    data_emp, A, b, B = dataGengenerate(datafile, dim_x, dim_w, 10, n_sample) # create data\n",
    "    lsq = costFun(method='boyd', model=[A, B, b], mode='cvxpy') # loss function\n",
    "\n",
    "    # run KDRO\n",
    "    theta_kdro, obj, apy, y0, kernel_gamma, loc_py = kDroPy(lsq, data_emp, epsilon=epsilon,\n",
    "                                                      dim_x=dim_x, n_certify=n_certify,\n",
    "                                                      sampling_method='bound', solver='ECOS')\n",
    "\n",
    "    res = {'data_emp': data_emp, 'thpy': theta_kdro, 'apy': apy, 'y0sol': y0, 'epsilon': epsilon, 'A0': A,\n",
    "           'B': B, 'b': b, 'loc_py': loc_py, 'kernel_gamma': kernel_gamma,\n",
    "           'n_certify': n_certify, 'obj': obj\n",
    "           }\n",
    "\n",
    "    res_dro.append(res)"
   ]
  },
  {
   "cell_type": "markdown",
   "metadata": {},
   "source": [
    "## Test the K-DRO solution $\\theta$"
   ]
  },
  {
   "cell_type": "code",
   "execution_count": 6,
   "metadata": {},
   "outputs": [],
   "source": [
    "# create some test data whose distribution shiftedd from that used for obtaining theta\n",
    "n_test = 500 # number of test samples\n",
    "\n",
    "disturb_set = np.linspace(0.0,2.0, 20)\n",
    "data_test = []\n",
    "for dd in disturb_set:\n",
    "    data_test.append((1+dd)* np.random.uniform(-0.5, 0.5, size=[n_test, dim_w]))"
   ]
  },
  {
   "cell_type": "code",
   "execution_count": 7,
   "metadata": {},
   "outputs": [],
   "source": [
    "# this cell tests the KDRO sollution on the created test data set \n",
    "RES = [] \n",
    "for D in res_dro:\n",
    "    # making new scenarios for plots\n",
    "    A, B, b, x_dro, kernel_gamma, y0 = D['A0'], D['B'], D['b'], D['thpy'],D['kernel_gamma'], D['y0sol']\n",
    "    obj_rkhs = D['obj']\n",
    "    a = D['apy']\n",
    "    data_emp = D['data_emp']\n",
    "    location_expansion = D['loc_py']\n",
    "\n",
    "    eps=D['epsilon']\n",
    "\n",
    "    # function used to evaluate the lsq cost\n",
    "    cost_toy = costFun(method='boyd', model=[np.asarray(A), np.asarray(B), np.asarray(b)], mode='numpy')\n",
    "\n",
    "    # run thru test set\n",
    "    mus = [] # track all mean cost\n",
    "    sigmas = [] # all std\n",
    "\n",
    "    for shift in data_test:\n",
    "        cost_test = []\n",
    "        for s in shift:\n",
    "            cost_test.append(cost_toy.eval(x_dro, s)) # test the kdro solution by evaluating the lsq cost\n",
    "\n",
    "        mu = np.mean(cost_test)\n",
    "        sigma = np.std(cost_test)\n",
    "        mus.append(mu)\n",
    "        sigmas.append(sigma)\n",
    "\n",
    "        all_data = np.concatenate([data_emp,shift])\n",
    "        kernel_width, kernel_gamma = median_heuristic(all_data, all_data)\n",
    "\n",
    "        w1 = np.ones_like(data_emp)/data_emp.shape[0]\n",
    "        w2 = np.ones_like(shift)/shift.shape[0]\n",
    "\n",
    "    ### bookkeeping, store all data useful for plots\n",
    "    RES.append({'eps':eps, 'mu':mus, 'sig':sigmas, 'disturbance':disturb_set, \n",
    "               'x_dro':x_dro, 'obj_rkhs':obj_rkhs})\n",
    "\n",
    "# bookkeeping\n",
    "RES_DRO = []\n",
    "mmmm = [r['mu'] for r in RES]\n",
    "mu_all = np.mean(mmmm, axis=0)\n",
    "sig_all = np.std(mmmm, axis=0)\n",
    "RES_DRO.append({'eps':eps, 'mu':mu_all, 'sig':sig_all, 'x_dro':x_dro})"
   ]
  },
  {
   "cell_type": "markdown",
   "metadata": {},
   "source": [
    "## Comparison with other methods\n",
    "We compare KDRO with:\n",
    "sample average approximation (SAA), a.k.a., empirical risk minimization (ERM)"
   ]
  },
  {
   "cell_type": "code",
   "execution_count": 8,
   "metadata": {},
   "outputs": [],
   "source": [
    "mus_nom=[]\n",
    "\n",
    "NOM_ALL=[]\n",
    "for D in res_dro:\n",
    "    A, B, b, x_dro, kernel_gamma, y0 = D['A0'], D['B'], D['b'], D['thpy'],D['kernel_gamma'], D['y0sol']\n",
    "    loc_certify = D['loc_py'] # all certified samples zeta during DRO\n",
    "    \n",
    "    data_emp = D['data_emp']\n",
    "    dim_x = x_dro.shape[0]\n",
    "\n",
    "    x_nom=saa(data_emp, A, B, b, dim_x)\n",
    "    \n",
    "    costs_nom=[]\n",
    "\n",
    "    for shift in data_test:\n",
    "        cost_nom = []\n",
    "\n",
    "        for s in shift:\n",
    "            cost_nom.append(cost_toy.eval(x_nom, s))\n",
    "\n",
    "        costs_nom.append(np.mean(cost_nom))\n",
    "        \n",
    "    \n",
    "    NOM_ALL.append(costs_nom)\n",
    "    \n",
    "# convert into np\n",
    "NOM_ALL = np.asarray([c for c in NOM_ALL])\n",
    "\n",
    "RES_COMP={\n",
    "    'mu_nom': np.mean(NOM_ALL,axis=0),\n",
    "    'sig_nom': np.std(NOM_ALL,axis=0),\n",
    "}"
   ]
  },
  {
   "cell_type": "markdown",
   "metadata": {},
   "source": [
    "## Plot the test comparisons of the above solutions"
   ]
  },
  {
   "cell_type": "code",
   "execution_count": 10,
   "metadata": {},
   "outputs": [
    {
     "data": {
      "image/png": "[encoded data removed]",
      "text/plain": [
       "<Figure size 432x288 with 1 Axes>"
      ]
     },
     "metadata": {
      "needs_background": "light"
     },
     "output_type": "display_data"
    }
   ],
   "source": [
    "plt.figure()\n",
    "ax_main = plt.gca()\n",
    "\n",
    "clrs=[ 'magenta','blue', 'green', 'yellow', 'red', 'orange']\n",
    "iclr=0\n",
    "\n",
    "for r in RES_DRO:\n",
    "    dict_kw = {\n",
    "        'mu': r['mu'],\n",
    "        'sig': r['sig'],\n",
    "        'disturb_set': disturb_set,\n",
    "        'n_run': n_run,\n",
    "        'color': clrs[iclr],\n",
    "        'ax_main': ax_main,\n",
    "        'label': 'K-DRO\\n $\\epsilon=$' + str(r['eps']),\n",
    "        'linestyle': '-'\n",
    "    }\n",
    "    kdroPlot(**dict_kw)\n",
    "    plt.xlabel('perturbation $\\Delta$')\n",
    "    plt.ylabel('test loss')\n",
    "    iclr += 1\n",
    "    \n",
    "# competing methods\n",
    "r = RES_COMP\n",
    "\n",
    "# ERM\n",
    "dict_kw =  {\n",
    "        'mu':r['mu_nom'],\n",
    "        'sig':r['sig_nom'],\n",
    "        'disturb_set':disturb_set,\n",
    "        'n_run':n_run,\n",
    "        'color': 'gray',\n",
    "        'ax_main': ax_main,\n",
    "        'label': 'ERM',\n",
    "        'linestyle': '--'\n",
    "    }\n",
    "kdroPlot(**dict_kw )\n",
    "\n",
    "plt.legend(loc=(1.1, 0.5), ncol=1, mode=\"expand\", borderaxespad=0.)\n",
    "plt.xlim([0, 2.0])\n",
    "plt.ylim([0, 4.0])\n",
    "plt.show()"
   ]
  },
  {
   "cell_type": "markdown",
   "metadata": {},
   "source": [
    "# Bonus"
   ]
  },
  {
   "cell_type": "markdown",
   "metadata": {},
   "source": [
    "- Can you make DRO behave just like ERM?\n",
    "- Unlike in the original paper, we don't have a worst-case RO solver available. Can we use our DRO algorithm to produce RO-like robustness? If so, how should be specify the parameter? \n",
    "- How do we measure the distribution shift using what we learned in class? (hint: how do we compare dogs against fish?)"
   ]
  },
  {
   "cell_type": "code",
   "execution_count": null,
   "metadata": {},
   "outputs": [],
   "source": []
  }
 ],
 "metadata": {
  "kernelspec": {
   "display_name": "Python 3",
   "language": "python",
   "name": "python3"
  },
  "language_info": {
   "codemirror_mode": {
    "name": "ipython",
    "version": 3
   },
   "file_extension": ".py",
   "mimetype": "text/x-python",
   "name": "python",
   "nbconvert_exporter": "python",
   "pygments_lexer": "ipython3",
   "version": "3.7.5"
  },
  "toc": {
   "base_numbering": 1,
   "nav_menu": {},
   "number_sections": true,
   "sideBar": true,
   "skip_h1_title": false,
   "title_cell": "Table of Contents",
   "title_sidebar": "Contents",
   "toc_cell": false,
   "toc_position": {},
   "toc_section_display": true,
   "toc_window_display": false
  }
 },
 "nbformat": 4,
 "nbformat_minor": 4
}
