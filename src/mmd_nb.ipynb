{
 "cells": [
  {
   "cell_type": "markdown",
   "id": "131e0d8b",
   "metadata": {},
   "source": [
    "In this notebook, we will implement the MMD estimator we learned in class"
   ]
  },
  {
   "cell_type": "code",
   "execution_count": null,
   "id": "06a3d388",
   "metadata": {},
   "outputs": [],
   "source": []
  }
 ],
 "metadata": {
  "kernelspec": {
   "display_name": "Python 3.7.5 64-bit ('syscop': conda)",
   "language": "python",
   "name": "python37564bitsyscopconda615e4f6da82b4eb285c88328e7da75ac"
  },
  "language_info": {
   "codemirror_mode": {
    "name": "ipython",
    "version": 3
   },
   "file_extension": ".py",
   "mimetype": "text/x-python",
   "name": "python",
   "nbconvert_exporter": "python",
   "pygments_lexer": "ipython3",
   "version": "3.7.5"
  },
  "toc": {
   "base_numbering": 1,
   "nav_menu": {},
   "number_sections": true,
   "sideBar": true,
   "skip_h1_title": false,
   "title_cell": "Table of Contents",
   "title_sidebar": "Contents",
   "toc_cell": false,
   "toc_position": {},
   "toc_section_display": true,
   "toc_window_display": false
  }
 },
 "nbformat": 4,
 "nbformat_minor": 5
}
