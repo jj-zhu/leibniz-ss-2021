{
 "cells": [
  {
   "cell_type": "markdown",
   "id": "131e0d8b",
   "metadata": {},
   "source": [
    "In this notebook, we will implement the MMD estimator we have learned in the class."
   ]
  },
  {
   "cell_type": "code",
   "execution_count": null,
   "id": "b93490ea",
   "metadata": {},
   "outputs": [],
   "source": [
    "import numpy as np\n",
    "import matplotlib.pyplot as plt\n",
    "\n",
    "# for computing kernels\n",
    "from sklearn.metrics.pairwise import rbf_kernel, polynomial_kernel, linear_kernel, laplacian_kernel\n",
    "\n",
    "from util import gram_mat"
   ]
  },
  {
   "cell_type": "markdown",
   "id": "f8223626",
   "metadata": {},
   "source": [
    "First, let's create some toy data:"
   ]
  },
  {
   "cell_type": "code",
   "execution_count": 4,
   "id": "812d977e",
   "metadata": {},
   "outputs": [
    {
     "data": {
      "text/plain": [
       "<matplotlib.collections.PathCollection at 0x7fab28791910>"
      ]
     },
     "execution_count": 4,
     "metadata": {},
     "output_type": "execute_result"
    },
    {
     "data": {
      "image/png": "[encoded data removed]",
      "text/plain": [
       "<Figure size 432x288 with 1 Axes>"
      ]
     },
     "metadata": {
      "needs_background": "light"
     },
     "output_type": "display_data"
    }
   ],
   "source": [
    "n_sample = 5000 # number of samples from each distribution\n",
    "\n",
    "x = np.random.normal(0.0, 1.0, n_sample).T\n",
    "y = np.random.normal(0.0, 10.0, n_sample).T\n",
    "\n",
    "plt.scatter(x, np.zeros_like(x), color='blue', s=100.0)\n",
    "plt.scatter(y, np.zeros_like(x), color='red')"
   ]
  },
  {
   "cell_type": "markdown",
   "id": "aff29c23",
   "metadata": {},
   "source": [
    "- Can you visualize their densities or histogram?"
   ]
  },
  {
   "cell_type": "code",
   "execution_count": 9,
   "id": "beb8474a",
   "metadata": {},
   "outputs": [
    {
     "data": {
      "text/plain": [
       "Text(0.5, 1.0, 'Visualize two distributions')"
      ]
     },
     "execution_count": 9,
     "metadata": {},
     "output_type": "execute_result"
    },
    {
     "data": {
      "image/png": "[encoded data removed]",
      "text/plain": [
       "<Figure size 432x288 with 1 Axes>"
      ]
     },
     "metadata": {
      "needs_background": "light"
     },
     "output_type": "display_data"
    }
   ],
   "source": [
    "'''exercise'''\n",
    "plt.plot()\n",
    "plt.title(\"Visualize two distributions\")"
   ]
  },
  {
   "cell_type": "markdown",
   "id": "18df5f58",
   "metadata": {},
   "source": [
    "- Are they different distributions?\n",
    "- If we want to use MMD, what kernel can we choose? Why?"
   ]
  },
  {
   "cell_type": "markdown",
   "id": "36e16365",
   "metadata": {},
   "source": [
    "# Construct a function that computes the MMD given two bags of data"
   ]
  },
  {
   "cell_type": "code",
   "execution_count": 6,
   "id": "e0691ba2",
   "metadata": {},
   "outputs": [],
   "source": [
    "def mmd_sqr(x, y, kernel, is_biased=True, **param):\n",
    "    # compute gram matrices using the tool provided\n",
    "    Kxx, Kxy, Kyy = gram_mat(x, y, kernel=kernel, **param)\n",
    "\n",
    "    '''exercise'''\n",
    "    # based on the above kernel Gram matrices\n",
    "    raise NotImplemented\n",
    "    mmd_squared = \n",
    "    \n",
    "    return mmd_squared # return norm squared"
   ]
  },
  {
   "cell_type": "markdown",
   "id": "8d656015",
   "metadata": {},
   "source": [
    "# Let's try to compute the MMD"
   ]
  },
  {
   "cell_type": "code",
   "execution_count": 7,
   "id": "ae33ef14",
   "metadata": {},
   "outputs": [
    {
     "data": {
      "text/plain": [
       "0"
      ]
     },
     "execution_count": 7,
     "metadata": {},
     "output_type": "execute_result"
    }
   ],
   "source": [
    "mmd_sqr(x, y, kernel=linear_kernel) # note, mmd estimator can be <0"
   ]
  },
  {
   "cell_type": "code",
   "execution_count": 8,
   "id": "3ff9c2a9",
   "metadata": {},
   "outputs": [
    {
     "data": {
      "text/plain": [
       "0"
      ]
     },
     "execution_count": 8,
     "metadata": {},
     "output_type": "execute_result"
    }
   ],
   "source": [
    "mmd_sqr(x, y, kernel=rbf_kernel, gamma=0.5) # note, mmd estimator can be <0"
   ]
  },
  {
   "cell_type": "markdown",
   "id": "bde39c98",
   "metadata": {},
   "source": [
    "- If you rerun the notebook, do you get a different MMD value? Why and why not?\n",
    "- Play with `n_sample` value in the beginning. How do they affect the MMD estimate? What should I set that quantity to?\n",
    "- study the sklearn documentation about what gamma means."
   ]
  }
 ],
 "metadata": {
  "kernelspec": {
   "display_name": "Python 3.7.5 64-bit ('syscop': conda)",
   "language": "python",
   "name": "python37564bitsyscopconda615e4f6da82b4eb285c88328e7da75ac"
  },
  "language_info": {
   "codemirror_mode": {
    "name": "ipython",
    "version": 3
   },
   "file_extension": ".py",
   "mimetype": "text/x-python",
   "name": "python",
   "nbconvert_exporter": "python",
   "pygments_lexer": "ipython3",
   "version": "3.7.5"
  },
  "toc": {
   "base_numbering": 1,
   "nav_menu": {},
   "number_sections": true,
   "sideBar": true,
   "skip_h1_title": false,
   "title_cell": "Table of Contents",
   "title_sidebar": "Contents",
   "toc_cell": false,
   "toc_position": {},
   "toc_section_display": true,
   "toc_window_display": false
  }
 },
 "nbformat": 4,
 "nbformat_minor": 5
}
