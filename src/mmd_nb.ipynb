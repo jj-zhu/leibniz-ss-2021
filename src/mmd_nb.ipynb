{
 "cells": [
  {
   "cell_type": "markdown",
   "id": "131e0d8b",
   "metadata": {},
   "source": [
    "In this notebook, we will implement the MMD estimator we have learned in the class."
   ]
  },
  {
   "cell_type": "markdown",
   "id": "09bed669",
   "metadata": {},
   "source": [
    "First, let's create some toy data:"
   ]
  },
  {
   "cell_type": "code",
   "execution_count": 15,
   "id": "7b7a8865",
   "metadata": {},
   "outputs": [],
   "source": [
    "import numpy as np\n",
    "import matplotlib.pyplot as plt"
   ]
  },
  {
   "cell_type": "code",
   "execution_count": 21,
   "id": "d2ad4cdd",
   "metadata": {},
   "outputs": [],
   "source": [
    "from sklearn.metrics.pairwise import rbf_kernel, polynomial_kernel, linear_kernel, laplacian_kernel"
   ]
  },
  {
   "cell_type": "code",
   "execution_count": 26,
   "id": "aaf07c16",
   "metadata": {},
   "outputs": [],
   "source": [
    "from util import *"
   ]
  },
  {
   "cell_type": "code",
   "execution_count": 55,
   "id": "0638cc6d",
   "metadata": {},
   "outputs": [],
   "source": [
    "n_sample = 1000"
   ]
  },
  {
   "cell_type": "code",
   "execution_count": 56,
   "id": "80a33a2a",
   "metadata": {},
   "outputs": [],
   "source": [
    "x = np.random.normal(0.0, 1.0, n_sample).T\n",
    "y = np.random.normal(0.0, 10.0, n_sample).T"
   ]
  },
  {
   "cell_type": "code",
   "execution_count": 68,
   "id": "d2ccc5c7",
   "metadata": {},
   "outputs": [
    {
     "data": {
      "text/plain": [
       "<matplotlib.collections.PathCollection at 0x7f99d8e76910>"
      ]
     },
     "execution_count": 68,
     "metadata": {},
     "output_type": "execute_result"
    },
    {
     "data": {
      "image/png": "[encoded data removed]",
      "text/plain": [
       "<Figure size 432x288 with 1 Axes>"
      ]
     },
     "metadata": {
      "needs_background": "light"
     },
     "output_type": "display_data"
    }
   ],
   "source": [
    "plt.scatter(x, np.zeros_like(x), color='blue', s=100.0)\n",
    "plt.scatter(y, np.zeros_like(x), color='red')"
   ]
  },
  {
   "cell_type": "markdown",
   "id": "472f157c",
   "metadata": {},
   "source": [
    "- Can you visualize their densities or histogram?"
   ]
  },
  {
   "cell_type": "markdown",
   "id": "0374411f",
   "metadata": {},
   "source": [
    "- If we want to use MMD, what kernel can we choose? Why?"
   ]
  },
  {
   "cell_type": "markdown",
   "id": "20dde685",
   "metadata": {},
   "source": [
    "# Let's try to compute the MMD"
   ]
  },
  {
   "cell_type": "code",
   "execution_count": 69,
   "id": "1317ea69",
   "metadata": {},
   "outputs": [
    {
     "data": {
      "text/plain": [
       "0.4385033013260436"
      ]
     },
     "execution_count": 69,
     "metadata": {},
     "output_type": "execute_result"
    }
   ],
   "source": [
    "mmd_sqr(x, y, kernel=rbf_kernel, gamma=0.5) # note, mmd estimator can be <0"
   ]
  },
  {
   "cell_type": "code",
   "execution_count": 70,
   "id": "6ff10417",
   "metadata": {},
   "outputs": [
    {
     "data": {
      "text/plain": [
       "0.006084343581559027"
      ]
     },
     "execution_count": 70,
     "metadata": {},
     "output_type": "execute_result"
    }
   ],
   "source": [
    "mmd_sqr(x, y, kernel=linear_kernel) # note, mmd estimator can be <0"
   ]
  },
  {
   "cell_type": "markdown",
   "id": "77f99f20",
   "metadata": {},
   "source": [
    "- If you rerun the notebook, do you get a different MMD? If so, why?\n",
    "- study the sklearn documentation about what gamma means."
   ]
  },
  {
   "cell_type": "code",
   "execution_count": null,
   "id": "b1bd8589",
   "metadata": {},
   "outputs": [],
   "source": []
  }
 ],
 "metadata": {
  "kernelspec": {
   "display_name": "Python 3.7.5 64-bit ('syscop': conda)",
   "language": "python",
   "name": "python37564bitsyscopconda615e4f6da82b4eb285c88328e7da75ac"
  },
  "language_info": {
   "codemirror_mode": {
    "name": "ipython",
    "version": 3
   },
   "file_extension": ".py",
   "mimetype": "text/x-python",
   "name": "python",
   "nbconvert_exporter": "python",
   "pygments_lexer": "ipython3",
   "version": "3.7.5"
  },
  "toc": {
   "base_numbering": 1,
   "nav_menu": {},
   "number_sections": true,
   "sideBar": true,
   "skip_h1_title": false,
   "title_cell": "Table of Contents",
   "title_sidebar": "Contents",
   "toc_cell": false,
   "toc_position": {},
   "toc_section_display": true,
   "toc_window_display": false
  }
 },
 "nbformat": 4,
 "nbformat_minor": 5
}
