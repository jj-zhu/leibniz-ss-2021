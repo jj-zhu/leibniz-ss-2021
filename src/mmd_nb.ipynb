{
 "cells": [
  {
   "cell_type": "markdown",
   "id": "131e0d8b",
   "metadata": {},
   "source": [
    "In this notebook, we will implement the MMD estimator we have learned in the class."
   ]
  },
  {
   "cell_type": "markdown",
   "id": "1d0c0996",
   "metadata": {},
   "source": [
    "First, let's create some toy data:"
   ]
  },
  {
   "cell_type": "code",
   "execution_count": 15,
   "id": "0923c962",
   "metadata": {},
   "outputs": [],
   "source": [
    "import numpy as np\n",
    "import matplotlib.pyplot as plt"
   ]
  },
  {
   "cell_type": "code",
   "execution_count": 21,
   "id": "f338da52",
   "metadata": {},
   "outputs": [],
   "source": [
    "from sklearn.metrics.pairwise import rbf_kernel, polynomial_kernel, linear_kernel, laplacian_kernel"
   ]
  },
  {
   "cell_type": "code",
   "execution_count": 26,
   "id": "d4b4e2e5",
   "metadata": {},
   "outputs": [],
   "source": [
    "from util import *"
   ]
  },
  {
   "cell_type": "code",
   "execution_count": 77,
   "id": "040b384d",
   "metadata": {},
   "outputs": [
    {
     "data": {
      "text/plain": [
       "<matplotlib.collections.PathCollection at 0x7f99b8bdafd0>"
      ]
     },
     "execution_count": 77,
     "metadata": {},
     "output_type": "execute_result"
    },
    {
     "data": {
      "image/png": "[encoded data removed]",
      "text/plain": [
       "<Figure size 432x288 with 1 Axes>"
      ]
     },
     "metadata": {
      "needs_background": "light"
     },
     "output_type": "display_data"
    }
   ],
   "source": [
    "n_sample = 10000\n",
    "\n",
    "x = np.random.normal(0.0, 1.0, n_sample).T\n",
    "y = np.random.normal(0.0, 10.0, n_sample).T\n",
    "\n",
    "plt.scatter(x, np.zeros_like(x), color='blue', s=100.0)\n",
    "plt.scatter(y, np.zeros_like(x), color='red')"
   ]
  },
  {
   "cell_type": "markdown",
   "id": "2f610e0f",
   "metadata": {},
   "source": [
    "- Can you visualize their densities or histogram?"
   ]
  },
  {
   "cell_type": "markdown",
   "id": "e59d6582",
   "metadata": {},
   "source": [
    "- If we want to use MMD, what kernel can we choose? Why?"
   ]
  },
  {
   "cell_type": "markdown",
   "id": "951af352",
   "metadata": {},
   "source": [
    "# Let's try to compute the MMD"
   ]
  },
  {
   "cell_type": "code",
   "execution_count": 79,
   "id": "b6a88266",
   "metadata": {},
   "outputs": [
    {
     "data": {
      "text/plain": [
       "0.0034115357409760317"
      ]
     },
     "execution_count": 79,
     "metadata": {},
     "output_type": "execute_result"
    }
   ],
   "source": [
    "mmd_sqr(x, y, kernel=linear_kernel) # note, mmd estimator can be <0"
   ]
  },
  {
   "cell_type": "code",
   "execution_count": 78,
   "id": "cd31c7cd",
   "metadata": {},
   "outputs": [
    {
     "data": {
      "text/plain": [
       "0.4484912007091887"
      ]
     },
     "execution_count": 78,
     "metadata": {},
     "output_type": "execute_result"
    }
   ],
   "source": [
    "mmd_sqr(x, y, kernel=rbf_kernel, gamma=0.5) # note, mmd estimator can be <0"
   ]
  },
  {
   "cell_type": "markdown",
   "id": "d61d79a4",
   "metadata": {},
   "source": [
    "- If you rerun the notebook, do you get a different MMD value? Why and why not?\n",
    "- study the sklearn documentation about what gamma means."
   ]
  }
 ],
 "metadata": {
  "kernelspec": {
   "display_name": "Python 3.7.5 64-bit ('syscop': conda)",
   "language": "python",
   "name": "python37564bitsyscopconda615e4f6da82b4eb285c88328e7da75ac"
  },
  "language_info": {
   "codemirror_mode": {
    "name": "ipython",
    "version": 3
   },
   "file_extension": ".py",
   "mimetype": "text/x-python",
   "name": "python",
   "nbconvert_exporter": "python",
   "pygments_lexer": "ipython3",
   "version": "3.7.5"
  },
  "toc": {
   "base_numbering": 1,
   "nav_menu": {},
   "number_sections": true,
   "sideBar": true,
   "skip_h1_title": false,
   "title_cell": "Table of Contents",
   "title_sidebar": "Contents",
   "toc_cell": false,
   "toc_position": {},
   "toc_section_display": true,
   "toc_window_display": false
  }
 },
 "nbformat": 4,
 "nbformat_minor": 5
}
